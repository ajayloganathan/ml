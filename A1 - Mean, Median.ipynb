{
 "cells": [
  {
   "cell_type": "code",
   "execution_count": 13,
   "id": "5e757fec",
   "metadata": {},
   "outputs": [
    {
     "name": "stdout",
     "output_type": "stream",
     "text": [
      "121.24000000000001\n"
     ]
    }
   ],
   "source": [
    "#mean\n",
    "def mean(list):\n",
    "    sum=0\n",
    "    for i in list:\n",
    "        sum=sum+i\n",
    "    \n",
    "    mean=sum/len(list)\n",
    "    return mean\n",
    "\n",
    "list=[115.3, 195.5, 120.5, 110.2, 90.4, 105.6, 110.9, 116.3, 122.3, 125.4]\n",
    "print(mean(list))"
   ]
  },
  {
   "cell_type": "code",
   "execution_count": 14,
   "id": "651c7f71",
   "metadata": {},
   "outputs": [
    {
     "data": {
      "text/plain": [
       "115.8"
      ]
     },
     "execution_count": 14,
     "metadata": {},
     "output_type": "execute_result"
    }
   ],
   "source": [
    "#Median\n",
    "def median():\n",
    "    size = len(list)\n",
    "    list.sort()\n",
    "    \n",
    "    if size % 2 == 0:\n",
    "        median1 = list[size//2]\n",
    "        median2 = list[size//2-1]\n",
    "        median = (median1 + median2)/2\n",
    "    else:\n",
    "        median = list[size//2]\n",
    "    return median\n",
    "\n",
    "list=[115.3, 195.5, 120.5, 110.2, 90.4, 105.6, 110.9, 116.3, 122.3, 125.4]\n",
    "median()"
   ]
  },
  {
   "cell_type": "code",
   "execution_count": 15,
   "id": "3f2d9641",
   "metadata": {},
   "outputs": [
    {
     "name": "stdout",
     "output_type": "stream",
     "text": [
      "MODE: 125.4\n"
     ]
    }
   ],
   "source": [
    "#mode\n",
    "list=[115.3, 195.5, 120.5, 110.2, 90.4, 105.6, 110.9, 116.3, 122.3, 125.4, 125.4]\n",
    "m={}\n",
    "for i in list:\n",
    "    if i in m:\n",
    "        m[i]=m[i]+1\n",
    "    else:\n",
    "        m[i]=1\n",
    "max=0\n",
    "for i in m:\n",
    "    if(m[i]>max):\n",
    "        max=m[i]\n",
    "        ans=i\n",
    "print(\"MODE:\",ans)"
   ]
  },
  {
   "cell_type": "code",
   "execution_count": 16,
   "id": "c5ec84d9",
   "metadata": {},
   "outputs": [
    {
     "name": "stdout",
     "output_type": "stream",
     "text": [
      "variance 701.7724\n"
     ]
    }
   ],
   "source": [
    "#variance\n",
    "def variance(list):\n",
    "\n",
    "    sum=0\n",
    "    for i in list:\n",
    "        sum+=(mean(list)-i)**2\n",
    "    variance = sum/len(list)\n",
    "    return variance\n",
    "\n",
    "list=[115.3, 195.5, 120.5, 110.2, 90.4, 105.6, 110.9, 116.3, 122.3, 125.4]\n",
    "print(\"variance\",variance(list))"
   ]
  },
  {
   "cell_type": "code",
   "execution_count": 17,
   "id": "e9817fed",
   "metadata": {},
   "outputs": [
    {
     "name": "stdout",
     "output_type": "stream",
     "text": [
      "SD: 26.490987146574962\n"
     ]
    }
   ],
   "source": [
    "#standard deviation\n",
    "def sd(list):\n",
    "    standard_dev = variance(list) ** 0.5\n",
    "    return standard_dev\n",
    "\n",
    "list=[115.3, 195.5, 120.5, 110.2, 90.4, 105.6, 110.9, 116.3, 122.3, 125.4]\n",
    "print(\"SD:\",sd(list))"
   ]
  },
  {
   "cell_type": "code",
   "execution_count": 18,
   "id": "17cc1afb",
   "metadata": {},
   "outputs": [
    {
     "name": "stdout",
     "output_type": "stream",
     "text": [
      "0.23691722169362506\n",
      "1.0\n",
      "0.2863939105613701\n",
      "0.18839200761179828\n",
      "0.0\n",
      "0.14462416745956222\n",
      "0.1950523311132255\n",
      "0.24643196955280677\n",
      "0.3035204567078972\n",
      "0.3330161750713606\n"
     ]
    }
   ],
   "source": [
    "#normalizaion\n",
    "def norm(list):\n",
    "    min=list[0]\n",
    "    max=list[0]\n",
    "    for i in list:\n",
    "        if(i>max):\n",
    "            max=i\n",
    "        elif(i<min):\n",
    "            min=i\n",
    "            \n",
    "    for i in list:\n",
    "        print((i-min)/(max-min))\n",
    "        \n",
    "list=[115.3, 195.5, 120.5, 110.2, 90.4, 105.6, 110.9, 116.3, 122.3, 125.4]\n",
    "norm(list)"
   ]
  },
  {
   "cell_type": "code",
   "execution_count": 19,
   "id": "b11ed8f7",
   "metadata": {},
   "outputs": [
    {
     "name": "stdout",
     "output_type": "stream",
     "text": [
      "-0.22422720478983732\n",
      "2.803217546749711\n",
      "-0.02793402887954231\n",
      "-0.4167455119326263\n",
      "-1.164169527898749\n",
      "-0.5903894752378875\n",
      "-0.3903214305600865\n",
      "-0.18647851711478058\n",
      "0.040013608935559664\n",
      "0.15703454072823578\n"
     ]
    }
   ],
   "source": [
    "#standarization\n",
    "def std(list):\n",
    "    for i in list:\n",
    "        print((i-mean(list))/sd(list))\n",
    "        \n",
    "list=[115.3, 195.5, 120.5, 110.2, 90.4, 105.6, 110.9, 116.3, 122.3, 125.4]\n",
    "std(list)"
   ]
  },
  {
   "cell_type": "code",
   "execution_count": null,
   "id": "5d248f3a",
   "metadata": {},
   "outputs": [],
   "source": []
  }
 ],
 "metadata": {
  "kernelspec": {
   "display_name": "Python 3 (ipykernel)",
   "language": "python",
   "name": "python3"
  },
  "language_info": {
   "codemirror_mode": {
    "name": "ipython",
    "version": 3
   },
   "file_extension": ".py",
   "mimetype": "text/x-python",
   "name": "python",
   "nbconvert_exporter": "python",
   "pygments_lexer": "ipython3",
   "version": "3.10.8"
  }
 },
 "nbformat": 4,
 "nbformat_minor": 5
}
